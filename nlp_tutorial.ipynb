{
  "nbformat": 4,
  "nbformat_minor": 0,
  "metadata": {
    "colab": {
      "name": "nlp_tutorial.ipynb",
      "provenance": []
    },
    "kernelspec": {
      "name": "python3",
      "display_name": "Python 3"
    },
    "accelerator": "GPU"
  },
  "cells": [
    {
      "cell_type": "markdown",
      "metadata": {
        "id": "MOzQsFYJPu5F",
        "colab_type": "text"
      },
      "source": [
        "### Noise remove"
      ]
    },
    {
      "cell_type": "code",
      "metadata": {
        "id": "TeVy5YYjPYfT",
        "colab_type": "code",
        "colab": {
          "base_uri": "https://localhost:8080/",
          "height": 34
        },
        "outputId": "b60770e5-9af7-4aab-c1fa-2c2d1ec439ee"
      },
      "source": [
        "noise_list = ['is','a','this']\n",
        "def remove_noise(text_):\n",
        "  words = text_.split()\n",
        "  noise_free = [word for word in words if word not in noise_list]\n",
        "  noise_free = ' '.join(noise_free)\n",
        "  return noise_free\n",
        "\n",
        "remove_noise(\"this is a sample text\")"
      ],
      "execution_count": 3,
      "outputs": [
        {
          "output_type": "execute_result",
          "data": {
            "text/plain": [
              "'sample text'"
            ]
          },
          "metadata": {
            "tags": []
          },
          "execution_count": 3
        }
      ]
    },
    {
      "cell_type": "markdown",
      "metadata": {
        "id": "IHCan0GvhuaI",
        "colab_type": "text"
      },
      "source": [
        "### Remove by Regex"
      ]
    },
    {
      "cell_type": "code",
      "metadata": {
        "id": "c5ZjPb8GQNAg",
        "colab_type": "code",
        "colab": {
          "base_uri": "https://localhost:8080/",
          "height": 34
        },
        "outputId": "b3fa42f0-8c8e-4dc4-ab4c-3f4b5a41ca76"
      },
      "source": [
        "import re\n",
        "\n",
        "def remove_regex(input_text, regex_pattern):\n",
        "  find_pattern = re.finditer(regex_pattern, input_text)\n",
        "  for i in find_pattern:\n",
        "    text = re.sub(i.group().strip(), \"\", input_text)\n",
        "  \n",
        "  return text\n",
        "\n",
        "reg_pattern = \"#[\\w]*\"\n",
        "print(remove_regex(\"I am with #DrKC movement.\", reg_pattern))"
      ],
      "execution_count": 5,
      "outputs": [
        {
          "output_type": "stream",
          "text": [
            "I am with  movement.\n"
          ],
          "name": "stdout"
        }
      ]
    },
    {
      "cell_type": "markdown",
      "metadata": {
        "id": "x6wF7XTmiiRh",
        "colab_type": "text"
      },
      "source": [
        "### Stop Words"
      ]
    },
    {
      "cell_type": "code",
      "metadata": {
        "id": "gNIqLsH2itB5",
        "colab_type": "code",
        "colab": {
          "base_uri": "https://localhost:8080/",
          "height": 102
        },
        "outputId": "a0be38de-955c-42d7-c312-f139bf0786a7"
      },
      "source": [
        "import nltk\n",
        "nltk.download('stopwords')\n",
        "nltk.download('punkt')"
      ],
      "execution_count": 9,
      "outputs": [
        {
          "output_type": "stream",
          "text": [
            "[nltk_data] Downloading package stopwords to /root/nltk_data...\n",
            "[nltk_data]   Package stopwords is already up-to-date!\n",
            "[nltk_data] Downloading package punkt to /root/nltk_data...\n",
            "[nltk_data]   Unzipping tokenizers/punkt.zip.\n"
          ],
          "name": "stdout"
        },
        {
          "output_type": "execute_result",
          "data": {
            "text/plain": [
              "True"
            ]
          },
          "metadata": {
            "tags": []
          },
          "execution_count": 9
        }
      ]
    },
    {
      "cell_type": "code",
      "metadata": {
        "id": "1S0BSqNrieR1",
        "colab_type": "code",
        "colab": {
          "base_uri": "https://localhost:8080/",
          "height": 51
        },
        "outputId": "161b59b0-6e13-425b-d30a-63df3ace45f2"
      },
      "source": [
        "from nltk.corpus import stopwords \n",
        "from nltk.tokenize import word_tokenize \n",
        "  \n",
        "example_sent = \"This is a sample sentence, showing off the stop words filtration.\"\n",
        "  \n",
        "stop_words = set(stopwords.words('english')) \n",
        "  \n",
        "word_tokens = word_tokenize(example_sent) \n",
        "  \n",
        "filtered_sentence = [w for w in word_tokens if not w in stop_words] \n",
        "  \n",
        "filtered_sentence = [] \n",
        "  \n",
        "for w in word_tokens: \n",
        "    if w not in stop_words: \n",
        "        filtered_sentence.append(w) \n",
        "  \n",
        "print(word_tokens) \n",
        "print(filtered_sentence) "
      ],
      "execution_count": 10,
      "outputs": [
        {
          "output_type": "stream",
          "text": [
            "['This', 'is', 'a', 'sample', 'sentence', ',', 'showing', 'off', 'the', 'stop', 'words', 'filtration', '.']\n",
            "['This', 'sample', 'sentence', ',', 'showing', 'stop', 'words', 'filtration', '.']\n"
          ],
          "name": "stdout"
        }
      ]
    },
    {
      "cell_type": "markdown",
      "metadata": {
        "id": "5gg07cCRi8SJ",
        "colab_type": "text"
      },
      "source": [
        "### Stemming and lemmatizing"
      ]
    },
    {
      "cell_type": "code",
      "metadata": {
        "id": "DhAoe_wgjNUu",
        "colab_type": "code",
        "colab": {
          "base_uri": "https://localhost:8080/",
          "height": 68
        },
        "outputId": "326913f2-bd19-4352-87a8-7f43be5c0bfb"
      },
      "source": [
        "nltk.download('wordnet')"
      ],
      "execution_count": 12,
      "outputs": [
        {
          "output_type": "stream",
          "text": [
            "[nltk_data] Downloading package wordnet to /root/nltk_data...\n",
            "[nltk_data]   Unzipping corpora/wordnet.zip.\n"
          ],
          "name": "stdout"
        },
        {
          "output_type": "execute_result",
          "data": {
            "text/plain": [
              "True"
            ]
          },
          "metadata": {
            "tags": []
          },
          "execution_count": 12
        }
      ]
    },
    {
      "cell_type": "code",
      "metadata": {
        "id": "O_jbjhJNiyL4",
        "colab_type": "code",
        "colab": {
          "base_uri": "https://localhost:8080/",
          "height": 51
        },
        "outputId": "f55e695b-b027-479c-9e1c-1fd04aaf1cb7"
      },
      "source": [
        "from nltk.stem.wordnet import WordNetLemmatizer \n",
        "lem = WordNetLemmatizer()\n",
        "\n",
        "from nltk.stem.porter import PorterStemmer \n",
        "stem = PorterStemmer()\n",
        "\n",
        "word = \"multiplying\"\n",
        "\n",
        "print(lem.lemmatize(word))\n",
        "print(stem.stem(word))"
      ],
      "execution_count": 13,
      "outputs": [
        {
          "output_type": "stream",
          "text": [
            "multiplying\n",
            "multipli\n"
          ],
          "name": "stdout"
        }
      ]
    },
    {
      "cell_type": "markdown",
      "metadata": {
        "id": "dchJ8mkNjWtQ",
        "colab_type": "text"
      },
      "source": [
        "### POS tag"
      ]
    },
    {
      "cell_type": "code",
      "metadata": {
        "id": "4Bghw4HLjlFI",
        "colab_type": "code",
        "colab": {
          "base_uri": "https://localhost:8080/",
          "height": 85
        },
        "outputId": "081c4cee-b5ff-474e-b220-cea34f74e349"
      },
      "source": [
        "nltk.download('averaged_perceptron_tagger')"
      ],
      "execution_count": 16,
      "outputs": [
        {
          "output_type": "stream",
          "text": [
            "[nltk_data] Downloading package averaged_perceptron_tagger to\n",
            "[nltk_data]     /root/nltk_data...\n",
            "[nltk_data]   Unzipping taggers/averaged_perceptron_tagger.zip.\n"
          ],
          "name": "stdout"
        },
        {
          "output_type": "execute_result",
          "data": {
            "text/plain": [
              "True"
            ]
          },
          "metadata": {
            "tags": []
          },
          "execution_count": 16
        }
      ]
    },
    {
      "cell_type": "code",
      "metadata": {
        "id": "52dRSm5ljSWz",
        "colab_type": "code",
        "colab": {
          "base_uri": "https://localhost:8080/",
          "height": 54
        },
        "outputId": "35238615-531a-42f1-a5c2-aec29a14dacf"
      },
      "source": [
        "from nltk import word_tokenize, pos_tag\n",
        "text = \"I am learning Natural Language Processing on Leapfrog Technology\"\n",
        "tokens = word_tokenize(text)\n",
        "print(pos_tag(tokens))"
      ],
      "execution_count": 17,
      "outputs": [
        {
          "output_type": "stream",
          "text": [
            "[('I', 'PRP'), ('am', 'VBP'), ('learning', 'VBG'), ('Natural', 'NNP'), ('Language', 'NNP'), ('Processing', 'NNP'), ('on', 'IN'), ('Leapfrog', 'NNP'), ('Technology', 'NNP')]\n"
          ],
          "name": "stdout"
        }
      ]
    },
    {
      "cell_type": "code",
      "metadata": {
        "id": "8HHZ0AaWjsVi",
        "colab_type": "code",
        "colab": {}
      },
      "source": [
        "# POS tag list:\n",
        "# CC coordinating conjunction\n",
        "# CD cardinal digit\n",
        "# DT determiner\n",
        "# EX existential there (like: \"there is\" ... think of it like \"there exists\")\n",
        "# FW foreign word\n",
        "# IN preposition/subordinating conjunction\n",
        "# JJ adjective 'big'\n",
        "# JJR adjective, comparative 'bigger'\n",
        "# JJS adjective, superlative 'biggest'\n",
        "# LS list marker 1)\n",
        "# MD modal could, will\n",
        "# NN noun, singular 'desk'\n",
        "# NNS noun plural 'desks'\n",
        "# NNP proper noun, singular 'Harrison'\n",
        "# NNPS proper noun, plural 'Americans'\n",
        "# PDT predeterminer 'all the kids'\n",
        "# POS possessive ending parent's\n",
        "# PRP personal pronoun I, he, she\n",
        "# PRP$ possessive pronoun my, his, hers\n",
        "# RB adverb very, silently,\n",
        "# RBR adverb, comparative better\n",
        "# RBS adverb, superlative best\n",
        "# RP particle give up\n",
        "# TO to go 'to' the store.\n",
        "# UH interjection errrrrrrrm\n",
        "# VB verb, base form take\n",
        "# VBD verb, past tense took\n",
        "# VBG verb, gerund/present participle taking\n",
        "# VBN verb, past participle taken\n",
        "# VBP verb, sing. present, non-3d take\n",
        "# VBZ verb, 3rd person sing. present takes\n",
        "# WDT wh-determiner which\n",
        "# WP wh-pronoun who, what\n",
        "# WP$ possessive wh-pronoun whose\n",
        "# WRB wh-abverb where, when"
      ],
      "execution_count": 0,
      "outputs": []
    },
    {
      "cell_type": "markdown",
      "metadata": {
        "id": "tTXXghAKkLQG",
        "colab_type": "text"
      },
      "source": [
        "## Ml pre-approach"
      ]
    },
    {
      "cell_type": "markdown",
      "metadata": {
        "id": "c-RiPttCk3GD",
        "colab_type": "text"
      },
      "source": [
        "### N-gram"
      ]
    },
    {
      "cell_type": "code",
      "metadata": {
        "id": "jGgyZCjxkrYn",
        "colab_type": "code",
        "colab": {
          "base_uri": "https://localhost:8080/",
          "height": 34
        },
        "outputId": "20054478-2e4c-4446-8556-f4ec65a879a1"
      },
      "source": [
        "def generate_ngrams(text, n):\n",
        "    words = text.split()\n",
        "    output = []  \n",
        "    for i in range(len(words)-n+1):\n",
        "        output.append(words[i:i+n])\n",
        "    return output\n",
        "\n",
        "generate_ngrams('Now we will generate ngram', 2)"
      ],
      "execution_count": 19,
      "outputs": [
        {
          "output_type": "execute_result",
          "data": {
            "text/plain": [
              "[['Now', 'we'], ['we', 'will'], ['will', 'generate'], ['generate', 'ngram']]"
            ]
          },
          "metadata": {
            "tags": []
          },
          "execution_count": 19
        }
      ]
    },
    {
      "cell_type": "markdown",
      "metadata": {
        "id": "GG-XSsEmkOwL",
        "colab_type": "text"
      },
      "source": [
        "### Countvectorizer"
      ]
    },
    {
      "cell_type": "code",
      "metadata": {
        "id": "vDaHtPBJj_Dm",
        "colab_type": "code",
        "colab": {
          "base_uri": "https://localhost:8080/",
          "height": 102
        },
        "outputId": "7b4433d8-72ec-4754-91fc-e2350c31931b"
      },
      "source": [
        "from sklearn.feature_extraction.text import CountVectorizer\n",
        "corpus = ['This is the first document.','This document is the second document.','And this is the third one.','Is this the first document']\n",
        "vectorizer = CountVectorizer()\n",
        "X = vectorizer.fit_transform(corpus)\n",
        "print(vectorizer.get_feature_names())\n",
        "print(X.toarray())"
      ],
      "execution_count": 18,
      "outputs": [
        {
          "output_type": "stream",
          "text": [
            "['and', 'document', 'first', 'is', 'one', 'second', 'the', 'third', 'this']\n",
            "[[0 1 1 1 0 0 1 0 1]\n",
            " [0 2 0 1 0 1 1 0 1]\n",
            " [1 0 0 1 1 0 1 1 1]\n",
            " [0 1 1 1 0 0 1 0 1]]\n"
          ],
          "name": "stdout"
        }
      ]
    },
    {
      "cell_type": "markdown",
      "metadata": {
        "id": "75d-tShclOdp",
        "colab_type": "text"
      },
      "source": [
        "### Tfidf Vectorizer"
      ]
    },
    {
      "cell_type": "code",
      "metadata": {
        "id": "FsR3Ww7gk_K6",
        "colab_type": "code",
        "colab": {
          "base_uri": "https://localhost:8080/",
          "height": 391
        },
        "outputId": "ef8afcc1-30d7-4684-a71c-7460ecf18aa7"
      },
      "source": [
        "from sklearn.feature_extraction.text import TfidfVectorizer\n",
        "obj = TfidfVectorizer()\n",
        "corpus = ['This is the first document.','This document is the second document.','And this is the third one.','Is this the first document']\n",
        "X = obj.fit_transform(corpus)\n",
        "print(X)\n",
        "print(obj.get_feature_names())"
      ],
      "execution_count": 25,
      "outputs": [
        {
          "output_type": "stream",
          "text": [
            "  (0, 1)\t0.46979138557992045\n",
            "  (0, 2)\t0.5802858236844359\n",
            "  (0, 6)\t0.38408524091481483\n",
            "  (0, 3)\t0.38408524091481483\n",
            "  (0, 8)\t0.38408524091481483\n",
            "  (1, 5)\t0.5386476208856763\n",
            "  (1, 1)\t0.6876235979836938\n",
            "  (1, 6)\t0.281088674033753\n",
            "  (1, 3)\t0.281088674033753\n",
            "  (1, 8)\t0.281088674033753\n",
            "  (2, 4)\t0.511848512707169\n",
            "  (2, 7)\t0.511848512707169\n",
            "  (2, 0)\t0.511848512707169\n",
            "  (2, 6)\t0.267103787642168\n",
            "  (2, 3)\t0.267103787642168\n",
            "  (2, 8)\t0.267103787642168\n",
            "  (3, 1)\t0.46979138557992045\n",
            "  (3, 2)\t0.5802858236844359\n",
            "  (3, 6)\t0.38408524091481483\n",
            "  (3, 3)\t0.38408524091481483\n",
            "  (3, 8)\t0.38408524091481483\n",
            "['and', 'document', 'first', 'is', 'one', 'second', 'the', 'third', 'this']\n"
          ],
          "name": "stdout"
        }
      ]
    },
    {
      "cell_type": "markdown",
      "metadata": {
        "id": "ndislesWnftk",
        "colab_type": "text"
      },
      "source": [
        "## Text classification"
      ]
    },
    {
      "cell_type": "markdown",
      "metadata": {
        "id": "0prtdm6bnitc",
        "colab_type": "text"
      },
      "source": [
        "### NBC example"
      ]
    },
    {
      "cell_type": "markdown",
      "metadata": {
        "id": "Up1EEytGnvp1",
        "colab_type": "text"
      },
      "source": [
        "![image.png](data:image/png;base64,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)"
      ]
    },
    {
      "cell_type": "code",
      "metadata": {
        "id": "x0FPwCFDmSvD",
        "colab_type": "code",
        "colab": {
          "base_uri": "https://localhost:8080/",
          "height": 34
        },
        "outputId": "7ad46500-7e85-407d-c5ca-06d9cab0fe42"
      },
      "source": [
        "from textblob.classifiers import NaiveBayesClassifier as NBC\n",
        "from textblob import TextBlob\n",
        "training_corpus = [\n",
        "                   ('I am exhausted of this work.', 'Class_B'),\n",
        "                   (\"I can't cooperate with this\", 'Class_B'),\n",
        "                   ('He is my badest enemy!', 'Class_B'),\n",
        "                   ('My management is poor.', 'Class_B'),\n",
        "                   ('I love this burger.', 'Class_A'),\n",
        "                   ('This is an brilliant place!', 'Class_A'),\n",
        "                   ('I feel very good about these dates.', 'Class_A'),\n",
        "                   ('This is my best work.', 'Class_A'),\n",
        "                   (\"What an awesome view\", 'Class_A'),\n",
        "                   ('I do not like this dish', 'Class_B')]\n",
        "test_corpus = [\n",
        "                (\"I am not feeling well today.\", 'Class_B'), \n",
        "                (\"I feel brilliant!\", 'Class_A'), \n",
        "                ('Gary is a friend of mine.', 'Class_A'), \n",
        "                (\"I can't believe I'm doing this.\", 'Class_B'), \n",
        "                ('The date was good.', 'Class_A'), ('I do not enjoy my job', 'Class_B')]\n",
        "\n",
        "model = NBC(training_corpus)\n",
        "print(model.classify(\"Their codes are amazing.\"))"
      ],
      "execution_count": 26,
      "outputs": [
        {
          "output_type": "stream",
          "text": [
            "Class_A\n"
          ],
          "name": "stdout"
        }
      ]
    },
    {
      "cell_type": "markdown",
      "metadata": {
        "id": "VaTlxjF7n_NN",
        "colab_type": "text"
      },
      "source": [
        "### SVM model"
      ]
    },
    {
      "cell_type": "code",
      "metadata": {
        "id": "tOGhAbBwnuCw",
        "colab_type": "code",
        "colab": {
          "base_uri": "https://localhost:8080/",
          "height": 170
        },
        "outputId": "91191956-e911-4b7c-8e78-0e2f2fd0451f"
      },
      "source": [
        "from sklearn.feature_extraction.text import TfidfVectorizer \n",
        "from sklearn.metrics import classification_report\n",
        "from sklearn import svm \n",
        "\n",
        "# preparing data for SVM model (using the same training_corpus, test_corpus from naive bayes example)\n",
        "train_data = []\n",
        "train_labels = []\n",
        "for row in training_corpus:\n",
        "    train_data.append(row[0])\n",
        "    train_labels.append(row[1])\n",
        "\n",
        "test_data = [] \n",
        "test_labels = [] \n",
        "for row in test_corpus:\n",
        "    test_data.append(row[0]) \n",
        "    test_labels.append(row[1])\n",
        "\n",
        "# Create feature vectors \n",
        "vectorizer = TfidfVectorizer(min_df=4, max_df=0.9)\n",
        "# Train the feature vectors\n",
        "train_vectors = vectorizer.fit_transform(train_data)\n",
        "# Apply model on test data \n",
        "test_vectors = vectorizer.transform(test_data)\n",
        "\n",
        "# Perform classification with SVM, kernel=linear \n",
        "model = svm.SVC(kernel='linear') \n",
        "model.fit(train_vectors, train_labels) \n",
        "print(classification_report(test_labels, prediction))"
      ],
      "execution_count": 30,
      "outputs": [
        {
          "output_type": "stream",
          "text": [
            "              precision    recall  f1-score   support\n",
            "\n",
            "     Class_A       0.50      0.67      0.57         3\n",
            "     Class_B       0.50      0.33      0.40         3\n",
            "\n",
            "    accuracy                           0.50         6\n",
            "   macro avg       0.50      0.50      0.49         6\n",
            "weighted avg       0.50      0.50      0.49         6\n",
            "\n"
          ],
          "name": "stdout"
        }
      ]
    },
    {
      "cell_type": "code",
      "metadata": {
        "id": "-95H-bDHnpSK",
        "colab_type": "code",
        "colab": {
          "base_uri": "https://localhost:8080/",
          "height": 34
        },
        "outputId": "e26e564b-49fd-4920-8e37-65d3802bafa4"
      },
      "source": [
        "prediction = model.predict(test_vectors)\n",
        "print(prediction)"
      ],
      "execution_count": 31,
      "outputs": [
        {
          "output_type": "stream",
          "text": [
            "['Class_A' 'Class_A' 'Class_B' 'Class_B' 'Class_A' 'Class_A']\n"
          ],
          "name": "stdout"
        }
      ]
    },
    {
      "cell_type": "code",
      "metadata": {
        "id": "c8GTeaCtobqJ",
        "colab_type": "code",
        "colab": {}
      },
      "source": [
        ""
      ],
      "execution_count": 0,
      "outputs": []
    }
  ]
}